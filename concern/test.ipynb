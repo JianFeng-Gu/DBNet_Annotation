{
 "cells": [
  {
   "cell_type": "code",
   "execution_count": 3,
   "metadata": {},
   "outputs": [],
   "source": [
    "import anyconfig\n",
    "import yaml"
   ]
  },
  {
   "cell_type": "code",
   "execution_count": 2,
   "metadata": {},
   "outputs": [
    {
     "data": {
      "text/plain": [
       "{'import': [],\n",
       " 'package': ['experiment',\n",
       "  'structure.model',\n",
       "  'training.learning_rate',\n",
       "  'data',\n",
       "  'data.processes'],\n",
       " 'define': []}"
      ]
     },
     "execution_count": 2,
     "metadata": {},
     "output_type": "execute_result"
    }
   ],
   "source": [
    "path = \"../experiments/base.yaml\"\n",
    "anyconfig.load(path)"
   ]
  },
  {
   "cell_type": "code",
   "execution_count": 7,
   "metadata": {},
   "outputs": [
    {
     "name": "stdout",
     "output_type": "stream",
     "text": [
      "{'import': [], 'package': ['experiment', 'structure.model', 'training.learning_rate', 'data', 'data.processes'], 'define': []}\n"
     ]
    }
   ],
   "source": [
    "with open(path,'rb') as f:\n",
    "    configure = yaml.load(f, Loader = yaml.FullLoader)\n",
    "print(configure)"
   ]
  },
  {
   "cell_type": "code",
   "execution_count": 2,
   "metadata": {},
   "outputs": [
    {
     "name": "stdout",
     "output_type": "stream",
     "text": [
      "Value : {'Name': 'Zara', 'Age': 10, 'Sex': 'female'}\n"
     ]
    }
   ],
   "source": [
    "#!/usr/bin/python\n",
    "\n",
    "tinydict = {'Name': 'Zara', 'Age': 7}\n",
    "tinydict2 = {'Sex': 'female','Age':10}\n",
    "\n",
    "tinydict.update(tinydict2)\n",
    "print (\"Value : %s\" % (tinydict))"
   ]
  },
  {
   "cell_type": "code",
   "execution_count": 32,
   "metadata": {},
   "outputs": [],
   "source": [
    "class a:\n",
    "    add1 = 1\n",
    "    add2 = 2\n",
    "    def __init__(self):\n",
    "        pass\n",
    "    def add(self):\n",
    "        \n",
    "        self.result = self.add1 + self.add2\n",
    "        return self.result"
   ]
  },
  {
   "cell_type": "code",
   "execution_count": 33,
   "metadata": {},
   "outputs": [],
   "source": [
    "A = a()"
   ]
  },
  {
   "cell_type": "code",
   "execution_count": 34,
   "metadata": {},
   "outputs": [
    {
     "data": {
      "text/plain": [
       "3"
      ]
     },
     "execution_count": 34,
     "metadata": {},
     "output_type": "execute_result"
    }
   ],
   "source": [
    "A.add()"
   ]
  }
 ],
 "metadata": {
  "kernelspec": {
   "display_name": "base",
   "language": "python",
   "name": "python3"
  },
  "language_info": {
   "codemirror_mode": {
    "name": "ipython",
    "version": 3
   },
   "file_extension": ".py",
   "mimetype": "text/x-python",
   "name": "python",
   "nbconvert_exporter": "python",
   "pygments_lexer": "ipython3",
   "version": "3.10.10"
  },
  "orig_nbformat": 4
 },
 "nbformat": 4,
 "nbformat_minor": 2
}
